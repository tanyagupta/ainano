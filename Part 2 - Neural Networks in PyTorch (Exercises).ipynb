{
 "cells": [
  {
   "cell_type": "markdown",
   "metadata": {},
   "source": [
    "# Neural networks with PyTorch\n",
    "\n",
    "Deep learning networks tend to be massive with dozens or hundreds of layers, that's where the term \"deep\" comes from. You can build one of these deep networks using only weight matrices as we did in the previous notebook, but in general it's very cumbersome and difficult to implement. PyTorch has a nice module `nn` that provides a nice way to efficiently build large neural networks."
   ]
  },
  {
   "cell_type": "code",
   "execution_count": 162,
   "metadata": {},
   "outputs": [],
   "source": [
    "# Import necessary packages\n",
    "\n",
    "%matplotlib inline\n",
    "%config InlineBackend.figure_format = 'retina'\n",
    "\n",
    "import numpy as np\n",
    "import torch\n",
    "\n",
    "import helper\n",
    "\n",
    "import matplotlib.pyplot as plt"
   ]
  },
  {
   "cell_type": "markdown",
   "metadata": {},
   "source": [
    "\n",
    "Now we're going to build a larger network that can solve a (formerly) difficult problem, identifying text in an image. Here we'll use the MNIST dataset which consists of greyscale handwritten digits. Each image is 28x28 pixels, you can see a sample below\n",
    "\n",
    "<img src='assets/mnist.png'>\n",
    "\n",
    "Our goal is to build a neural network that can take one of these images and predict the digit in the image.\n",
    "\n",
    "First up, we need to get our dataset. This is provided through the `torchvision` package. The code below will download the MNIST dataset, then create training and test datasets for us. Don't worry too much about the details here, you'll learn more about this later."
   ]
  },
  {
   "cell_type": "code",
   "execution_count": 163,
   "metadata": {},
   "outputs": [],
   "source": [
    "### Run this cell\n",
    "\n",
    "from torchvision import datasets, transforms\n",
    "\n",
    "# Define a transform to normalize the data\n",
    "transform = transforms.Compose([transforms.ToTensor(),\n",
    "                              transforms.Normalize((0.5,), (0.5,)),\n",
    "                              ])\n",
    "\n",
    "# Download and load the training data\n",
    "trainset = datasets.MNIST('~/.pytorch/MNIST_data/', download=True, train=True, transform=transform)\n",
    "trainloader = torch.utils.data.DataLoader(trainset, batch_size=64, shuffle=True)"
   ]
  },
  {
   "cell_type": "markdown",
   "metadata": {},
   "source": [
    "We have the training data loaded into `trainloader` and we make that an iterator with `iter(trainloader)`. Later, we'll use this to loop through the dataset for training, like\n",
    "\n",
    "```python\n",
    "for image, label in trainloader:\n",
    "    ## do things with images and labels\n",
    "```\n",
    "\n",
    "You'll notice I created the `trainloader` with a batch size of 64, and `shuffle=True`. The batch size is the number of images we get in one iteration from the data loader and pass through our network, often called a *batch*. And `shuffle=True` tells it to shuffle the dataset every time we start going through the data loader again. But here I'm just grabbing the first batch so we can check out the data. We can see below that `images` is just a tensor with size `(64, 1, 28, 28)`. So, 64 images per batch, 1 color channel, and 28x28 images."
   ]
  },
  {
   "cell_type": "code",
   "execution_count": 164,
   "metadata": {},
   "outputs": [
    {
     "name": "stdout",
     "output_type": "stream",
     "text": [
      "<class 'torch.Tensor'>\n",
      "torch.Size([64, 1, 28, 28])\n",
      "torch.Size([64])\n"
     ]
    }
   ],
   "source": [
    "dataiter = iter(trainloader)\n",
    "images, labels = dataiter.next()\n",
    "print(type(images))\n",
    "print(images.shape)\n",
    "print(labels.shape)"
   ]
  },
  {
   "cell_type": "markdown",
   "metadata": {},
   "source": [
    "This is what one of the images looks like. "
   ]
  },
  {
   "cell_type": "code",
   "execution_count": 165,
   "metadata": {},
   "outputs": [
    {
     "data": {
      "image/png": "[encoded data removed]",
      "text/plain": [
       "<Figure size 432x288 with 1 Axes>"
      ]
     },
     "metadata": {
      "image/png": {
       "height": 248,
       "width": 251
      },
      "needs_background": "light"
     },
     "output_type": "display_data"
    }
   ],
   "source": [
    "plt.imshow(images[1].numpy().squeeze(), cmap='Greys_r');"
   ]
  },
  {
   "cell_type": "markdown",
   "metadata": {},
   "source": [
    "First, let's try to build a simple network for this dataset using weight matrices and matrix multiplications. Then, we'll see how to do it using PyTorch's `nn` module which provides a much more convenient and powerful method for defining network architectures.\n",
    "\n",
    "The networks you've seen so far are called *fully-connected* or *dense* networks. Each unit in one layer is connected to each unit in the next layer. In fully-connected networks, the input to each layer must be a one-dimensional vector (which can be stacked into a 2D tensor as a batch of multiple examples). However, our images are 28x28 2D tensors, so we need to convert them into 1D vectors. Thinking about sizes, we need to convert the batch of images with shape `(64, 1, 28, 28)` to a have a shape of `(64, 784)`, 784 is 28 times 28. This is typically called *flattening*, we flattened the 2D images into 1D vectors.\n",
    "\n",
    "Previously you built a network with one output unit. Here we need 10 output units, one for each digit. We want our network to predict the digit shown in an image, so what we'll do is calculate probabilities that the image is of any one digit or class. This ends up being a discrete probability distribution over the classes (digits) that tells us the most likely class for the image. That means we need 10 output units for the 10 classes (digits). We'll see how to convert the network output into a probability distribution next.\n",
    "\n",
    "> **Exercise:** Flatten the batch of images `images`. Then build a multi-layer network with 784 input units, 256 hidden units, and 10 output units using random tensors for the weights and biases. For now, use a sigmoid activation for the hidden layer. Leave the output layer without an activation, we'll add one that gives us a probability distribution next."
   ]
  },
  {
   "cell_type": "code",
   "execution_count": 166,
   "metadata": {},
   "outputs": [
    {
     "name": "stdout",
     "output_type": "stream",
     "text": [
      "torch.Size([64, 10])\n",
      "tensor([[ 5.4272e+00,  6.7660e+00,  1.3512e+00, -7.9013e+00,  4.4877e+00,\n",
      "          1.1159e+01,  1.5371e+00,  4.1455e+00,  1.2001e+01,  5.6273e+00],\n",
      "        [ 4.5134e-01, -3.6283e+00, -9.1770e+00, -4.5039e+00,  1.2249e+01,\n",
      "          4.7655e+00, -1.7474e+01,  5.6077e+00,  1.7651e+01, -1.9123e-01],\n",
      "        [ 6.5805e+00,  8.6194e+00,  2.6845e+00, -6.2413e+00,  4.8031e-02,\n",
      "          9.3230e+00, -5.4004e+00,  4.5483e+00,  8.0039e+00,  2.6834e-01],\n",
      "        [-7.7338e-01,  2.4289e-02,  1.0902e+01, -1.5116e+01,  7.8212e+00,\n",
      "         -4.0833e+00, -2.0695e+01, -7.5353e+00,  6.7997e+00, -4.9434e+00],\n",
      "        [-1.6684e+00,  1.0137e+01,  1.6917e+00, -9.9520e-01,  4.6859e+00,\n",
      "          6.2209e+00, -3.8824e+00, -9.3719e-01, -1.1543e+00,  7.4509e+00],\n",
      "        [ 5.2285e+00,  2.9683e+00, -9.3712e-01, -1.4846e+01,  2.0841e+00,\n",
      "          2.8184e+00, -1.3104e+01, -4.0686e+00,  7.2608e+00,  2.0166e+00],\n",
      "        [ 7.3270e+00, -5.2309e+00, -1.4281e+00, -5.0122e+00,  4.4715e+00,\n",
      "          5.2187e+00,  2.0474e+00,  1.2153e+00,  8.2628e+00,  7.3281e+00],\n",
      "        [ 8.7259e-01, -3.5530e+00, -4.4041e+00, -8.4795e+00,  1.2245e+01,\n",
      "          3.2079e+00, -2.1244e+01,  4.4115e+00,  3.1332e+00, -6.0774e+00],\n",
      "        [ 3.6061e+00,  6.7688e+00,  2.8575e+00,  6.4982e-01,  2.6475e+00,\n",
      "         -2.7769e+00, -1.8048e+01,  8.4930e-01,  1.8188e+01, -6.7468e+00],\n",
      "        [ 2.6172e+00, -1.1521e-01, -3.5600e+00, -7.7889e+00,  1.2956e+01,\n",
      "          3.2656e-01, -9.1254e+00, -1.1624e+00,  1.1878e+01,  4.0751e-01],\n",
      "        [ 1.9593e+01, -3.3167e-01,  2.8130e+00, -6.9659e+00, -8.4822e-01,\n",
      "         -5.6411e+00, -7.7702e+00, -6.4323e+00,  1.8986e+00,  4.9692e+00],\n",
      "        [-1.8120e+00,  1.2117e+01, -2.2950e+00,  8.7957e+00,  1.5492e+00,\n",
      "          1.1746e+01, -1.5926e+01, -1.4702e+00,  6.6243e+00,  3.3919e+00],\n",
      "        [-8.9022e-01,  4.1175e+00, -1.4315e+00, -4.8897e-01, -2.9133e+00,\n",
      "          4.3125e+00, -7.2794e+00,  6.1261e-01,  6.1716e+00, -6.5028e+00],\n",
      "        [ 2.4421e+00,  4.5076e+00,  4.6831e+00, -1.2132e+01,  4.3746e+00,\n",
      "          6.0536e+00, -3.8622e+00,  2.9325e+00,  8.2882e+00,  4.7805e+00],\n",
      "        [ 1.2675e+01,  8.9006e+00, -2.6090e+00, -1.9862e+00,  5.1016e+00,\n",
      "          2.6481e-01, -5.7431e+00,  1.5913e+00,  3.5778e+00,  8.8915e+00],\n",
      "        [ 7.3639e-01,  1.0121e+01,  3.1793e+00, -7.3476e+00, -5.3193e+00,\n",
      "          8.2419e+00, -2.0931e+01, -2.7472e+00,  6.8821e+00, -2.5661e+00],\n",
      "        [ 2.7608e+00,  6.0561e+00, -8.2546e-01, -9.2160e+00,  1.1408e+00,\n",
      "          5.5744e+00,  3.7133e+00,  2.0210e+00,  8.0591e+00, -3.2721e-01],\n",
      "        [-4.6681e+00,  1.1404e+01, -2.7312e+00, -8.5277e+00,  5.8301e+00,\n",
      "          1.1796e+01, -1.3560e+01,  5.7385e+00,  1.0400e+01, -4.2867e-01],\n",
      "        [ 7.7686e-01,  3.4919e+00, -4.3224e+00, -3.4712e+00,  7.6354e+00,\n",
      "          6.6272e-01, -2.2493e+00, -3.4855e+00,  6.7021e+00, -9.2800e-01],\n",
      "        [ 7.4119e+00,  3.5302e+00,  2.6736e+00, -8.0226e+00, -1.2162e-01,\n",
      "          2.6271e+00,  6.4359e-01,  2.7162e+00,  7.6760e+00,  7.8996e-01],\n",
      "        [-5.8787e-01,  7.9191e+00, -5.2640e+00, -6.2938e+00,  6.5320e+00,\n",
      "          7.9448e+00, -1.3396e+01,  9.2608e+00,  2.4759e+00, -5.5308e-01],\n",
      "        [ 9.2290e-01,  7.5973e+00,  4.0070e-01, -1.5221e+00, -1.2681e+00,\n",
      "         -2.6918e+00, -1.4189e+01,  1.6426e+00,  1.1675e+01, -4.8900e+00],\n",
      "        [ 5.7301e+00,  2.1827e+00,  3.1184e+00, -1.4138e+01,  4.4605e+00,\n",
      "          1.1807e+01, -1.7238e+01,  6.1199e+00,  8.3565e+00, -4.7738e+00],\n",
      "        [ 5.0179e+00,  3.6930e+00, -9.2007e+00,  6.3882e+00,  6.1391e+00,\n",
      "          8.5431e+00,  2.2823e-01, -3.0801e-03,  5.8054e+00, -1.0689e+01],\n",
      "        [ 2.5987e+00,  1.5466e+01, -5.6850e+00,  4.7370e+00,  3.1467e+00,\n",
      "          1.1197e+01, -9.2201e-01, -9.6562e+00,  1.9600e+00,  3.5266e+00],\n",
      "        [-5.3166e-01,  7.3620e+00,  1.1857e+00, -1.5915e+00,  1.0674e+01,\n",
      "          8.6339e+00, -1.4308e+01,  9.6895e-01,  8.2672e+00,  1.6854e-01],\n",
      "        [-2.6712e+00,  4.3223e+00,  2.9525e+00,  2.2221e+00,  8.6181e-01,\n",
      "          1.0043e+01, -3.1478e+00, -4.1442e+00,  4.9125e+00,  3.8919e+00],\n",
      "        [ 1.1147e+01,  7.8457e-01, -1.3062e+00, -1.8053e+01,  1.3022e+01,\n",
      "         -5.4635e+00, -9.6651e+00,  5.0772e+00,  1.4321e+01,  3.9878e+00],\n",
      "        [-3.0737e+00, -1.0982e-01, -5.3412e+00, -2.5125e+01, -2.7458e-01,\n",
      "         -1.7233e+00, -2.5298e+01,  1.1804e+01,  1.1709e+01,  1.5137e+00],\n",
      "        [ 1.6264e+00, -2.4203e+00, -9.0328e+00, -6.9012e+00,  6.8311e+00,\n",
      "          4.4347e+00, -1.6204e+01,  2.8294e+00,  3.0357e+00, -9.0386e+00],\n",
      "        [ 1.1421e+00,  9.1665e+00, -7.5106e+00, -4.1394e+00, -1.7318e-01,\n",
      "          9.3024e+00,  2.0080e-01,  4.1928e+00, -1.1944e+00,  5.2924e+00],\n",
      "        [-1.9080e+00,  5.5313e+00,  6.3628e+00,  2.8016e-01,  2.0078e+00,\n",
      "         -2.8487e+00, -2.0747e+01,  5.4511e+00,  8.9828e+00, -3.8809e+00],\n",
      "        [-1.0905e+00, -1.8180e+00, -4.0063e-01, -3.7679e+00,  7.0283e+00,\n",
      "          2.9410e+00, -2.0586e+01, -3.1913e+00,  1.1277e+00, -3.7111e+00],\n",
      "        [ 6.2562e+00,  2.7408e+00, -1.2532e+00,  1.7560e-01,  4.4326e+00,\n",
      "          2.6658e+00, -6.9786e+00, -2.6381e-02,  2.0049e+00, -1.9301e+00],\n",
      "        [ 1.1487e+01,  4.7196e+00,  1.2446e-01, -1.4310e+00,  8.7631e+00,\n",
      "         -2.5355e+00, -1.0836e+01, -1.2223e+01,  2.0233e+00, -2.7254e+00],\n",
      "        [ 1.1393e+01,  1.1030e+01,  6.1045e-01,  4.3577e+00, -9.2614e-01,\n",
      "         -2.1703e+00, -7.4442e+00, -3.8887e+00,  2.9441e+00, -5.5089e+00],\n",
      "        [ 4.3016e+00,  8.2369e+00, -6.3071e+00, -1.1995e+01,  5.8812e+00,\n",
      "          6.0001e+00, -2.3044e+00,  2.3084e+00,  3.7159e+00,  8.7300e+00],\n",
      "        [ 1.0856e+01,  9.1207e+00,  7.8123e-01, -9.9806e+00,  9.9867e+00,\n",
      "          4.1652e-01, -7.0968e+00, -3.7465e+00,  2.4160e+00, -1.5802e+01],\n",
      "        [-3.7065e+00,  8.2786e+00, -7.4167e+00, -1.1618e+01,  1.5291e+01,\n",
      "          8.8898e+00, -1.4125e+01,  1.8601e+00,  8.8278e+00,  1.4773e+01],\n",
      "        [ 6.4528e+00,  2.3487e+00, -4.5339e+00, -2.6731e+00,  5.0075e+00,\n",
      "          3.3534e+00, -1.4092e+01,  1.7389e+00,  1.5273e+00, -1.5603e+01],\n",
      "        [ 4.9114e+00,  8.6572e+00, -5.0055e-01, -5.6660e+00,  4.6442e+00,\n",
      "          3.4356e+00, -1.8700e+00,  5.2212e+00,  9.8403e+00, -1.4737e+00],\n",
      "        [ 3.9384e+00,  3.9079e+00,  5.5321e+00, -7.1489e+00, -3.9325e+00,\n",
      "          3.4043e+00, -8.1600e+00, -9.8726e-01,  6.0591e+00, -2.7071e+00],\n",
      "        [-1.4260e+00,  6.1091e+00, -4.5951e+00, -1.0615e+01,  6.4151e+00,\n",
      "          1.9629e+00, -1.8502e+01, -6.3085e+00,  2.4276e-01, -6.8844e+00],\n",
      "        [ 9.0111e+00,  3.6653e+00,  8.5586e-01, -3.2397e+00,  1.8157e+01,\n",
      "         -6.9897e+00, -1.0654e+01, -2.1354e+00,  1.6513e+00, -2.9863e+00],\n",
      "        [-1.5135e+00,  3.3831e+00,  3.0619e+00, -1.6699e+01,  8.8816e+00,\n",
      "          5.0240e+00, -6.6225e+00,  8.6161e+00,  1.0908e+01,  1.2637e+01],\n",
      "        [ 6.2737e+00,  8.4368e+00, -3.3579e+00, -2.0328e+00,  1.4208e+00,\n",
      "          8.2045e+00, -1.2323e+01, -2.0866e+00,  2.8924e+00, -7.1581e+00],\n",
      "        [ 2.5455e+00,  1.0877e+01,  1.6668e+00, -1.0171e+01,  5.7112e+00,\n",
      "          4.5636e+00, -2.0937e+01,  5.4711e+00,  1.2595e+01,  1.3665e+01],\n",
      "        [ 4.3152e+00,  7.7032e+00, -9.4724e-01, -5.3951e+00,  4.9277e+00,\n",
      "          4.4397e+00, -1.7623e+01,  4.4327e+00,  7.0083e+00,  4.5124e+00],\n",
      "        [-1.2769e+00,  1.7865e+00,  8.3059e-01, -4.7869e+00,  9.3727e+00,\n",
      "          6.7522e+00, -1.1856e+01, -4.4429e+00,  6.9293e+00,  4.3266e+00],\n",
      "        [ 8.9822e-01,  1.0757e+01,  4.6860e+00,  5.0143e+00, -2.6346e-01,\n",
      "          1.6212e+01, -1.1741e+01, -6.7993e+00, -1.6490e+00,  2.2245e+00],\n",
      "        [-3.0935e+00,  6.7135e+00, -2.8318e+00, -8.5493e+00,  7.8892e+00,\n",
      "          4.2265e+00, -1.0281e+01, -4.0809e+00,  8.4823e+00, -2.1936e+00],\n",
      "        [ 1.2522e+01,  7.2051e+00,  1.0783e+01,  1.8169e+00,  2.4489e+00,\n",
      "          7.4780e+00, -3.3968e+00, -3.8994e-01,  7.0280e+00, -5.0113e+00],\n",
      "        [ 7.3503e+00,  3.8322e+00, -4.0050e+00, -7.8252e+00,  7.4941e-01,\n",
      "          1.3577e+01, -1.2753e+01,  6.4750e+00,  6.2574e+00,  6.5766e+00],\n",
      "        [-2.7285e+00,  2.4823e+00,  6.2035e-01, -1.4728e+01,  5.4902e+00,\n",
      "          2.4311e-01, -2.0934e+01,  5.7680e+00,  1.5158e+01,  3.5788e+00],\n",
      "        [-6.9788e+00,  9.5564e+00,  1.4437e+00, -1.2033e+01,  4.6034e+00,\n",
      "          1.2500e+00, -6.5280e+00, -4.0296e+00,  3.6400e+00, -1.3637e+00],\n",
      "        [ 5.2416e+00,  6.4209e+00, -2.4349e+00, -7.4295e+00,  4.7275e+00,\n",
      "          1.4912e+01, -3.2633e+00,  1.8124e+00,  4.9639e+00,  1.3365e+01],\n",
      "        [-3.6390e+00,  7.9030e+00, -4.4446e+00, -6.8169e+00,  2.0296e+00,\n",
      "          9.2361e-01, -8.7152e+00,  3.4793e-01,  3.5311e+00,  2.6389e+00],\n",
      "        [ 1.1960e+00,  7.1469e+00, -2.8186e+00, -2.4997e+00,  1.3673e+00,\n",
      "          8.6479e+00, -2.9179e+00,  4.5519e+00,  9.3868e+00, -2.8458e+00],\n",
      "        [ 1.6620e+00,  5.5374e+00, -3.2510e-01, -9.0455e+00,  1.2408e-01,\n",
      "          3.1218e-01, -6.3261e+00, -1.0126e+00,  3.3987e+00,  9.6670e-01],\n",
      "        [ 3.3851e+00,  4.3227e+00, -5.2967e+00, -1.2760e+01,  3.5335e+00,\n",
      "          6.9708e+00, -2.4905e+01,  3.7388e+00,  7.9678e-01, -9.2908e+00],\n",
      "        [ 6.0694e-01,  1.2515e+01,  7.8844e+00, -3.6436e+00,  4.9676e+00,\n",
      "         -4.4247e+00, -8.4011e+00, -8.7635e+00,  9.9514e+00, -5.0971e+00],\n",
      "        [ 1.6539e+01,  9.8746e+00,  3.2303e+00, -8.0889e+00,  4.8892e+00,\n",
      "         -1.2383e+00, -6.8470e+00, -3.1418e+00,  6.6192e+00,  7.4200e+00],\n",
      "        [ 6.3809e+00,  7.7769e+00, -8.1272e+00,  7.4428e-01, -3.7982e+00,\n",
      "          7.4791e+00, -2.4273e+01, -6.8255e+00,  1.0758e+01, -1.9802e+00],\n",
      "        [ 9.9062e+00, -6.4055e-01, -3.6825e+00, -6.3725e-01,  1.6899e+01,\n",
      "          4.4575e+00, -1.8960e+01,  1.4263e+00, -2.7844e+00, -6.1878e+00]])\n"
     ]
    }
   ],
   "source": [
    "## Your solution\n",
    "## Current shape is (64, 1, 28, 28). We need a shape of (64, 784)\n",
    "def activation(x):\n",
    "    \"\"\" Sigmoid activation function\n",
    "\n",
    "        Arguments\n",
    "        ---------\n",
    "        x: torch.Tensor\n",
    "    \"\"\"\n",
    "    return 1/(1+torch.exp(-x))\n",
    "\n",
    "inputs = images.view(images.shape[0], -1) #images.shape gives the size or the number of batches for the first \n",
    "#element and -1 or 784 would work. With -1 the code figures out that it should use 784\n",
    "# uses batch size 64\n",
    "w1 = torch.randn((784,256)) # we know that input is 784 units and 256 hiddent units\n",
    "b1 = torch.randn(256) # one for each bias unit\n",
    "w2 = torch.randn((256,10)) # hidden to output layer\n",
    "b2 = torch.randn(10)\n",
    "\n",
    "y = activation(torch.mm(inputs,w1)+b1) # matrix multiplication\n",
    "##z = activation(torch.mm(y,w2)+b2)\n",
    "out = torch.mm(y,w2) + b2\n",
    "print(out.shape)\n",
    "print(out)\n",
    "\n",
    "\n",
    "#out = # output of your network, should have shape (64,10)"
   ]
  },
  {
   "cell_type": "markdown",
   "metadata": {},
   "source": [
    "Now we have 10 outputs for our network. We want to pass in an image to our network and get out a probability distribution over the classes that tells us the likely class(es) the image belongs to. Something that looks like this:\n",
    "<img src='assets/image_distribution.png' width=500px>\n",
    "\n",
    "Here we see that the probability for each class is roughly the same. This is representing an untrained network, it hasn't seen any data yet so it just returns a uniform distribution with equal probabilities for each class.\n",
    "\n",
    "To calculate this probability distribution, we often use the [**softmax** function](https://en.wikipedia.org/wiki/Softmax_function). Mathematically this looks like\n",
    "\n",
    "$$\n",
    "\\Large \\sigma(x_i) = \\cfrac{e^{x_i}}{\\sum_k^K{e^{x_k}}}\n",
    "$$\n",
    "\n",
    "What this does is squish each input $x_i$ between 0 and 1 and normalizes the values to give you a proper probability distribution where the probabilites sum up to one.\n",
    "\n",
    "> **Exercise:** Implement a function `softmax` that performs the softmax calculation and returns probability distributions for each example in the batch. Note that you'll need to pay attention to the shapes when doing this. If you have a tensor `a` with shape `(64, 10)` and a tensor `b` with shape `(64,)`, doing `a/b` will give you an error because PyTorch will try to do the division across the columns (called broadcasting) but you'll get a size mismatch. The way to think about this is for each of the 64 examples, you only want to divide by one value, the sum in the denominator. So you need `b` to have a shape of `(64, 1)`. This way PyTorch will divide the 10 values in each row of `a` by the one value in each row of `b`. Pay attention to how you take the sum as well. You'll need to define the `dim` keyword in `torch.sum`. Setting `dim=0` takes the sum across the rows while `dim=1` takes the sum across the columns."
   ]
  },
  {
   "cell_type": "code",
   "execution_count": 167,
   "metadata": {},
   "outputs": [
    {
     "name": "stdout",
     "output_type": "stream",
     "text": [
      "torch.Size([64, 10])\n",
      "tensor([1.0000, 1.0000, 1.0000, 1.0000, 1.0000, 1.0000, 1.0000, 1.0000, 1.0000,\n",
      "        1.0000, 1.0000, 1.0000, 1.0000, 1.0000, 1.0000, 1.0000, 1.0000, 1.0000,\n",
      "        1.0000, 1.0000, 1.0000, 1.0000, 1.0000, 1.0000, 1.0000, 1.0000, 1.0000,\n",
      "        1.0000, 1.0000, 1.0000, 1.0000, 1.0000, 1.0000, 1.0000, 1.0000, 1.0000,\n",
      "        1.0000, 1.0000, 1.0000, 1.0000, 1.0000, 1.0000, 1.0000, 1.0000, 1.0000,\n",
      "        1.0000, 1.0000, 1.0000, 1.0000, 1.0000, 1.0000, 1.0000, 1.0000, 1.0000,\n",
      "        1.0000, 1.0000, 1.0000, 1.0000, 1.0000, 1.0000, 1.0000, 1.0000, 1.0000,\n",
      "        1.0000])\n"
     ]
    }
   ],
   "source": [
    "def softmax(x):\n",
    "    ## TODO: Implement the softmax function here\n",
    "    return torch.exp(x)/torch.sum(torch.exp(x),dim=1).view(-1,1)\n",
    "    \n",
    "\n",
    "# Here, out should be the output of the network in the previous excercise with shape (64,10)\n",
    "probabilities = softmax(out)\n",
    "\n",
    "# Does it have the right shape? Should be (64, 10)\n",
    "print(probabilities.shape)\n",
    "# Does it sum to 1?\n",
    "print(probabilities.sum(dim=1))\n",
    "\n",
    "# Notes\n",
    "#we want the sum across one single row. So, each of the columns in one single row for each example. Therefore dimension equals one is used.\n",
    "#So, this is basically going to take the sum across the columns.\n",
    "#What this does, torch.sum here, is going to actually going to give us a tensor, that is just a vector of 64 elements.\n",
    "#So, the problem with this is that,if this is 64 by 10,and this is just a 64-long vector, it's going to try to divide every element in this tensor by all 64 of these values. So, it's going give us a 64 by 64 tensor, and that's not what we want.\n",
    "#We want our output to be 64 by 10. So, what you actually need to do is reshape this tensor here to have 64 rows, but only one value for each of those rows.\n",
    "#it's going look at for each row in this tensor,is going to look at the equivalent row in this tensor. So, since each row in this tensor only has one value, it's going to divide this exponential by the one value in this denominator tensor.\n",
    "#"
   ]
  },
  {
   "cell_type": "markdown",
   "metadata": {},
   "source": [
    "## Building networks with PyTorch\n",
    "\n",
    "PyTorch provides a module `nn` that makes building networks much simpler. Here I'll show you how to build the same one as above with 784 inputs, 256 hidden units, 10 output units and a softmax output."
   ]
  },
  {
   "cell_type": "code",
   "execution_count": 168,
   "metadata": {},
   "outputs": [],
   "source": [
    "from torch import nn"
   ]
  },
  {
   "cell_type": "code",
   "execution_count": 169,
   "metadata": {},
   "outputs": [],
   "source": [
    "class Network(nn.Module):\n",
    "    def __init__(self):\n",
    "        super().__init__()\n",
    "        \n",
    "        # Inputs to hidden layer linear transformation\n",
    "        self.hidden = nn.Linear(784, 256)\n",
    "        # Output layer, 10 units - one for each digit\n",
    "        self.output = nn.Linear(256, 10)\n",
    "        \n",
    "        # Define sigmoid activation and softmax output \n",
    "        self.sigmoid = nn.Sigmoid()\n",
    "        self.softmax = nn.Softmax(dim=1)\n",
    "        \n",
    "    def forward(self, x):\n",
    "        # Pass the input tensor through each of our operations\n",
    "        x = self.hidden(x)\n",
    "        x = self.sigmoid(x)\n",
    "        x = self.output(x)\n",
    "        x = self.softmax(x)\n",
    "        \n",
    "        return x"
   ]
  },
  {
   "cell_type": "markdown",
   "metadata": {},
   "source": [
    "Let's go through this bit by bit.\n",
    "\n",
    "```python\n",
    "class Network(nn.Module):\n",
    "```\n",
    "\n",
    "Here we're inheriting from `nn.Module`. Combined with `super().__init__()` this creates a class that tracks the architecture and provides a lot of useful methods and attributes. It is mandatory to inherit from `nn.Module` when you're creating a class for your network. The name of the class itself can be anything.\n",
    "\n",
    "```python\n",
    "self.hidden = nn.Linear(784, 256)\n",
    "```\n",
    "\n",
    "This line creates a module for a linear transformation, $x\\mathbf{W} + b$, with 784 inputs and 256 outputs and assigns it to `self.hidden`. The module automatically creates the weight and bias tensors which we'll use in the `forward` method. You can access the weight and bias tensors once the network (`net`) is created with `net.hidden.weight` and `net.hidden.bias`.\n",
    "\n",
    "```python\n",
    "self.output = nn.Linear(256, 10)\n",
    "```\n",
    "\n",
    "Similarly, this creates another linear transformation with 256 inputs and 10 outputs.\n",
    "\n",
    "```python\n",
    "self.sigmoid = nn.Sigmoid()\n",
    "self.softmax = nn.Softmax(dim=1)\n",
    "```\n",
    "\n",
    "Here I defined operations for the sigmoid activation and softmax output. Setting `dim=1` in `nn.Softmax(dim=1)` calculates softmax across the columns.\n",
    "\n",
    "```python\n",
    "def forward(self, x):\n",
    "```\n",
    "\n",
    "PyTorch networks created with `nn.Module` must have a `forward` method defined. It takes in a tensor `x` and passes it through the operations you defined in the `__init__` method.\n",
    "\n",
    "```python\n",
    "x = self.hidden(x)\n",
    "x = self.sigmoid(x)\n",
    "x = self.output(x)\n",
    "x = self.softmax(x)\n",
    "```\n",
    "\n",
    "Here the input tensor `x` is passed through each operation and reassigned to `x`. We can see that the input tensor goes through the hidden layer, then a sigmoid function, then the output layer, and finally the softmax function. It doesn't matter what you name the variables here, as long as the inputs and outputs of the operations match the network architecture you want to build. The order in which you define things in the `__init__` method doesn't matter, but you'll need to sequence the operations correctly in the `forward` method.\n",
    "\n",
    "Now we can create a `Network` object."
   ]
  },
  {
   "cell_type": "code",
   "execution_count": 170,
   "metadata": {},
   "outputs": [
    {
     "data": {
      "text/plain": [
       "Network(\n",
       "  (hidden): Linear(in_features=784, out_features=256, bias=True)\n",
       "  (output): Linear(in_features=256, out_features=10, bias=True)\n",
       "  (sigmoid): Sigmoid()\n",
       "  (softmax): Softmax(dim=1)\n",
       ")"
      ]
     },
     "execution_count": 170,
     "metadata": {},
     "output_type": "execute_result"
    }
   ],
   "source": [
    "# Create the network and look at it's text representation\n",
    "model = Network()\n",
    "model"
   ]
  },
  {
   "cell_type": "markdown",
   "metadata": {},
   "source": [
    "You can define the network somewhat more concisely and clearly using the `torch.nn.functional` module. This is the most common way you'll see networks defined as many operations are simple element-wise functions. We normally import this module as `F`, `import torch.nn.functional as F`."
   ]
  },
  {
   "cell_type": "code",
   "execution_count": 171,
   "metadata": {},
   "outputs": [],
   "source": [
    "import torch.nn.functional as F\n",
    "\n",
    "class Network(nn.Module):\n",
    "    def __init__(self):\n",
    "        super().__init__()\n",
    "        # Inputs to hidden layer linear transformation\n",
    "        self.hidden = nn.Linear(784, 256)\n",
    "        # Output layer, 10 units - one for each digit\n",
    "        self.output = nn.Linear(256, 10)\n",
    "        \n",
    "    def forward(self, x):\n",
    "        # Hidden layer with sigmoid activation\n",
    "        x = F.sigmoid(self.hidden(x))\n",
    "        # Output layer with softmax activation\n",
    "        x = F.softmax(self.output(x), dim=1)\n",
    "        \n",
    "        return x"
   ]
  },
  {
   "cell_type": "markdown",
   "metadata": {},
   "source": [
    "### Activation functions\n",
    "\n",
    "So far we've only been looking at the sigmoid activation function, but in general any function can be used as an activation function. The only requirement is that for a network to approximate a non-linear function, the activation functions must be non-linear. Here are a few more examples of common activation functions: Tanh (hyperbolic tangent), and ReLU (rectified linear unit).\n",
    "\n",
    "<img src=\"assets/activation.png\" width=700px>\n",
    "\n",
    "In practice, the ReLU function is used almost exclusively as the activation function for hidden layers."
   ]
  },
  {
   "cell_type": "markdown",
   "metadata": {},
   "source": [
    "### Your Turn to Build a Network\n",
    "\n",
    "<img src=\"assets/mlp_mnist.png\" width=600px>\n",
    "\n",
    "> **Exercise:** Create a network with 784 input units, a hidden layer with 128 units and a ReLU activation, then a hidden layer with 64 units and a ReLU activation, and finally an output layer with a softmax activation as shown above. You can use a ReLU activation with the `nn.ReLU` module or `F.relu` function.\n",
    "\n",
    "It's good practice to name your layers by their type of network, for instance 'fc' to represent a fully-connected layer. As you code your solution, use `fc1`, `fc2`, and `fc3` as your layer names."
   ]
  },
  {
   "cell_type": "code",
   "execution_count": 172,
   "metadata": {
    "scrolled": true
   },
   "outputs": [
    {
     "data": {
      "text/plain": [
       "Network(\n",
       "  (fc1): Linear(in_features=784, out_features=128, bias=True)\n",
       "  (fc2): Linear(in_features=128, out_features=64, bias=True)\n",
       "  (fc3): Linear(in_features=64, out_features=10, bias=True)\n",
       ")"
      ]
     },
     "execution_count": 172,
     "metadata": {},
     "output_type": "execute_result"
    }
   ],
   "source": [
    "## Your solution here\n",
    "\n",
    "import torch.nn.functional as F\n",
    "\n",
    "class Network(nn.Module):\n",
    "    def __init__(self):\n",
    "        super().__init__()\n",
    "        # Inputs to hidden layer linear transformation\n",
    "        self.fc1 = nn.Linear(784, 128)\n",
    "        self.fc2 = nn.Linear(128,64)\n",
    "        \n",
    "        # Output layer, 10 units - one for each digit\n",
    "        self.fc3 = nn.Linear(64,10)\n",
    "        \n",
    "    def forward(self, x):\n",
    "        # Hidden layer with sigmoid activation\n",
    "        x = self.fc1(x)\n",
    "        x = F.relu(x)\n",
    "        x = self.fc2(x)\n",
    "        x = F.relu(x)\n",
    "        x = self.relu(x)\n",
    "        x = F.relu(x)\n",
    "        # Output layer with softmax activation\n",
    "        x = F.softmax(x, dim=1)\n",
    "        \n",
    "        return x\n",
    "\n",
    "model = Network()\n",
    "model"
   ]
  },
  {
   "cell_type": "markdown",
   "metadata": {},
   "source": [
    "### Initializing weights and biases\n",
    "\n",
    "The weights and such are automatically initialized for you, but it's possible to customize how they are initialized. The weights and biases are tensors attached to the layer you defined, you can get them with `model.fc1.weight` for instance."
   ]
  },
  {
   "cell_type": "code",
   "execution_count": 173,
   "metadata": {},
   "outputs": [
    {
     "name": "stdout",
     "output_type": "stream",
     "text": [
      "Parameter containing:\n",
      "tensor([[ 0.0202, -0.0309, -0.0106,  ..., -0.0310,  0.0098, -0.0197],\n",
      "        [-0.0068,  0.0294,  0.0138,  ..., -0.0266,  0.0281,  0.0143],\n",
      "        [ 0.0265, -0.0272,  0.0334,  ...,  0.0146, -0.0096,  0.0309],\n",
      "        ...,\n",
      "        [-0.0048,  0.0234,  0.0109,  ..., -0.0320,  0.0266,  0.0088],\n",
      "        [ 0.0178, -0.0330, -0.0018,  ...,  0.0008,  0.0152,  0.0171],\n",
      "        [ 0.0266,  0.0278, -0.0009,  ..., -0.0053, -0.0113,  0.0321]],\n",
      "       requires_grad=True)\n",
      "Parameter containing:\n",
      "tensor([ 0.0206,  0.0269,  0.0188, -0.0210, -0.0287, -0.0023,  0.0279, -0.0164,\n",
      "        -0.0131, -0.0242,  0.0309,  0.0112,  0.0258,  0.0203, -0.0243,  0.0169,\n",
      "        -0.0194,  0.0349, -0.0261,  0.0039, -0.0307,  0.0164,  0.0311,  0.0068,\n",
      "         0.0249, -0.0245, -0.0354,  0.0311,  0.0189,  0.0178, -0.0160, -0.0076,\n",
      "        -0.0209,  0.0014,  0.0148, -0.0050, -0.0265, -0.0182, -0.0164,  0.0247,\n",
      "         0.0235, -0.0209,  0.0024,  0.0046, -0.0208,  0.0163, -0.0313,  0.0071,\n",
      "         0.0343,  0.0249, -0.0112, -0.0187, -0.0070, -0.0251,  0.0152,  0.0301,\n",
      "        -0.0129,  0.0018,  0.0292, -0.0070,  0.0063, -0.0022, -0.0258, -0.0350,\n",
      "         0.0158,  0.0039,  0.0319, -0.0227,  0.0179, -0.0100,  0.0329,  0.0157,\n",
      "         0.0037, -0.0339,  0.0317,  0.0318, -0.0031, -0.0295,  0.0083,  0.0227,\n",
      "         0.0314,  0.0059, -0.0120,  0.0192, -0.0273, -0.0176, -0.0074,  0.0342,\n",
      "        -0.0022,  0.0260,  0.0221, -0.0224, -0.0224, -0.0214, -0.0064,  0.0257,\n",
      "        -0.0066,  0.0093, -0.0193, -0.0121,  0.0115, -0.0273,  0.0291,  0.0233,\n",
      "         0.0297,  0.0268,  0.0334, -0.0143, -0.0033,  0.0102, -0.0254, -0.0199,\n",
      "        -0.0050,  0.0307,  0.0349,  0.0350,  0.0045,  0.0062,  0.0050, -0.0179,\n",
      "        -0.0010, -0.0116, -0.0008, -0.0171,  0.0338,  0.0296,  0.0212, -0.0050],\n",
      "       requires_grad=True)\n"
     ]
    }
   ],
   "source": [
    "print(model.fc1.weight)\n",
    "print(model.fc1.bias)"
   ]
  },
  {
   "cell_type": "markdown",
   "metadata": {},
   "source": [
    "For custom initialization, we want to modify these tensors in place. These are actually autograd *Variables*, so we need to get back the actual tensors with `model.fc1.weight.data`. Once we have the tensors, we can fill them with zeros (for biases) or random normal values."
   ]
  },
  {
   "cell_type": "code",
   "execution_count": 174,
   "metadata": {},
   "outputs": [
    {
     "data": {
      "text/plain": [
       "tensor([0., 0., 0., 0., 0., 0., 0., 0., 0., 0., 0., 0., 0., 0., 0., 0., 0., 0., 0., 0., 0., 0., 0., 0.,\n",
       "        0., 0., 0., 0., 0., 0., 0., 0., 0., 0., 0., 0., 0., 0., 0., 0., 0., 0., 0., 0., 0., 0., 0., 0.,\n",
       "        0., 0., 0., 0., 0., 0., 0., 0., 0., 0., 0., 0., 0., 0., 0., 0., 0., 0., 0., 0., 0., 0., 0., 0.,\n",
       "        0., 0., 0., 0., 0., 0., 0., 0., 0., 0., 0., 0., 0., 0., 0., 0., 0., 0., 0., 0., 0., 0., 0., 0.,\n",
       "        0., 0., 0., 0., 0., 0., 0., 0., 0., 0., 0., 0., 0., 0., 0., 0., 0., 0., 0., 0., 0., 0., 0., 0.,\n",
       "        0., 0., 0., 0., 0., 0., 0., 0.])"
      ]
     },
     "execution_count": 174,
     "metadata": {},
     "output_type": "execute_result"
    }
   ],
   "source": [
    "# Set biases to all zeros\n",
    "model.fc1.bias.data.fill_(0)"
   ]
  },
  {
   "cell_type": "code",
   "execution_count": 175,
   "metadata": {},
   "outputs": [
    {
     "data": {
      "text/plain": [
       "tensor([[ 0.0082,  0.0037, -0.0074,  ..., -0.0158,  0.0028,  0.0145],\n",
       "        [-0.0009, -0.0164,  0.0077,  ...,  0.0012, -0.0034, -0.0040],\n",
       "        [ 0.0056,  0.0087,  0.0322,  ...,  0.0062, -0.0002, -0.0093],\n",
       "        ...,\n",
       "        [ 0.0150,  0.0141,  0.0062,  ...,  0.0015,  0.0147,  0.0122],\n",
       "        [-0.0087,  0.0021, -0.0166,  ...,  0.0114,  0.0078,  0.0037],\n",
       "        [ 0.0028, -0.0076,  0.0028,  ...,  0.0046,  0.0103,  0.0154]])"
      ]
     },
     "execution_count": 175,
     "metadata": {},
     "output_type": "execute_result"
    }
   ],
   "source": [
    "# sample from random normal with standard dev = 0.01\n",
    "model.fc1.weight.data.normal_(std=0.01)"
   ]
  },
  {
   "cell_type": "markdown",
   "metadata": {},
   "source": [
    "### Forward pass\n",
    "\n",
    "Now that we have a network, let's see what happens when we pass in an image."
   ]
  },
  {
   "cell_type": "code",
   "execution_count": 176,
   "metadata": {},
   "outputs": [
    {
     "ename": "AttributeError",
     "evalue": "'Network' object has no attribute 'relu'",
     "output_type": "error",
     "traceback": [
      "\u001b[0;31m---------------------------------------------------------------------------\u001b[0m",
      "\u001b[0;31mAttributeError\u001b[0m                            Traceback (most recent call last)",
      "\u001b[0;32m<ipython-input-176-3760ccc5c3dd>\u001b[0m in \u001b[0;36m<module>\u001b[0;34m\u001b[0m\n\u001b[1;32m      9\u001b[0m \u001b[0;31m# Forward pass through the network\u001b[0m\u001b[0;34m\u001b[0m\u001b[0;34m\u001b[0m\u001b[0m\n\u001b[1;32m     10\u001b[0m \u001b[0mimg_idx\u001b[0m \u001b[0;34m=\u001b[0m \u001b[0;36m0\u001b[0m\u001b[0;34m\u001b[0m\u001b[0m\n\u001b[0;32m---> 11\u001b[0;31m \u001b[0mps\u001b[0m \u001b[0;34m=\u001b[0m \u001b[0mmodel\u001b[0m\u001b[0;34m.\u001b[0m\u001b[0mforward\u001b[0m\u001b[0;34m(\u001b[0m\u001b[0mimages\u001b[0m\u001b[0;34m[\u001b[0m\u001b[0mimg_idx\u001b[0m\u001b[0;34m,\u001b[0m\u001b[0;34m:\u001b[0m\u001b[0;34m]\u001b[0m\u001b[0;34m)\u001b[0m\u001b[0;34m\u001b[0m\u001b[0m\n\u001b[0m\u001b[1;32m     12\u001b[0m \u001b[0;34m\u001b[0m\u001b[0m\n\u001b[1;32m     13\u001b[0m \u001b[0mimg\u001b[0m \u001b[0;34m=\u001b[0m \u001b[0mimages\u001b[0m\u001b[0;34m[\u001b[0m\u001b[0mimg_idx\u001b[0m\u001b[0;34m]\u001b[0m\u001b[0;34m\u001b[0m\u001b[0m\n",
      "\u001b[0;32m<ipython-input-172-91a4ebd79a93>\u001b[0m in \u001b[0;36mforward\u001b[0;34m(self, x)\u001b[0m\n\u001b[1;32m     19\u001b[0m         \u001b[0mx\u001b[0m \u001b[0;34m=\u001b[0m \u001b[0mself\u001b[0m\u001b[0;34m.\u001b[0m\u001b[0mfc2\u001b[0m\u001b[0;34m(\u001b[0m\u001b[0mx\u001b[0m\u001b[0;34m)\u001b[0m\u001b[0;34m\u001b[0m\u001b[0m\n\u001b[1;32m     20\u001b[0m         \u001b[0mx\u001b[0m \u001b[0;34m=\u001b[0m \u001b[0mF\u001b[0m\u001b[0;34m.\u001b[0m\u001b[0mrelu\u001b[0m\u001b[0;34m(\u001b[0m\u001b[0mx\u001b[0m\u001b[0;34m)\u001b[0m\u001b[0;34m\u001b[0m\u001b[0m\n\u001b[0;32m---> 21\u001b[0;31m         \u001b[0mx\u001b[0m \u001b[0;34m=\u001b[0m \u001b[0mself\u001b[0m\u001b[0;34m.\u001b[0m\u001b[0mrelu\u001b[0m\u001b[0;34m(\u001b[0m\u001b[0mx\u001b[0m\u001b[0;34m)\u001b[0m\u001b[0;34m\u001b[0m\u001b[0m\n\u001b[0m\u001b[1;32m     22\u001b[0m         \u001b[0mx\u001b[0m \u001b[0;34m=\u001b[0m \u001b[0mF\u001b[0m\u001b[0;34m.\u001b[0m\u001b[0mrelu\u001b[0m\u001b[0;34m(\u001b[0m\u001b[0mx\u001b[0m\u001b[0;34m)\u001b[0m\u001b[0;34m\u001b[0m\u001b[0m\n\u001b[1;32m     23\u001b[0m         \u001b[0;31m# Output layer with softmax activation\u001b[0m\u001b[0;34m\u001b[0m\u001b[0;34m\u001b[0m\u001b[0m\n",
      "\u001b[0;32m~/.local/share/virtualenvs/deep-learning-v2-pytorch-c_Mu7AGL/lib/python3.6/site-packages/torch/nn/modules/module.py\u001b[0m in \u001b[0;36m__getattr__\u001b[0;34m(self, name)\u001b[0m\n\u001b[1;32m    589\u001b[0m                 \u001b[0;32mreturn\u001b[0m \u001b[0mmodules\u001b[0m\u001b[0;34m[\u001b[0m\u001b[0mname\u001b[0m\u001b[0;34m]\u001b[0m\u001b[0;34m\u001b[0m\u001b[0m\n\u001b[1;32m    590\u001b[0m         raise AttributeError(\"'{}' object has no attribute '{}'\".format(\n\u001b[0;32m--> 591\u001b[0;31m             type(self).__name__, name))\n\u001b[0m\u001b[1;32m    592\u001b[0m \u001b[0;34m\u001b[0m\u001b[0m\n\u001b[1;32m    593\u001b[0m     \u001b[0;32mdef\u001b[0m \u001b[0m__setattr__\u001b[0m\u001b[0;34m(\u001b[0m\u001b[0mself\u001b[0m\u001b[0;34m,\u001b[0m \u001b[0mname\u001b[0m\u001b[0;34m,\u001b[0m \u001b[0mvalue\u001b[0m\u001b[0;34m)\u001b[0m\u001b[0;34m:\u001b[0m\u001b[0;34m\u001b[0m\u001b[0m\n",
      "\u001b[0;31mAttributeError\u001b[0m: 'Network' object has no attribute 'relu'"
     ]
    }
   ],
   "source": [
    "# Grab some data \n",
    "dataiter = iter(trainloader)\n",
    "images, labels = dataiter.next()\n",
    "\n",
    "# Resize images into a 1D vector, new shape is (batch size, color channels, image pixels) \n",
    "images.resize_(64, 1, 784)\n",
    "# or images.resize_(images.shape[0], 1, 784) to automatically get batch size\n",
    "\n",
    "# Forward pass through the network\n",
    "img_idx = 0\n",
    "ps = model.forward(images[img_idx,:])\n",
    "\n",
    "img = images[img_idx]\n",
    "helper.view_classify(img.view(1, 28, 28), ps)"
   ]
  },
  {
   "cell_type": "markdown",
   "metadata": {},
   "source": [
    "As you can see above, our network has basically no idea what this digit is. It's because we haven't trained it yet, all the weights are random!\n",
    "\n",
    "### Using `nn.Sequential`\n",
    "\n",
    "PyTorch provides a convenient way to build networks like this where a tensor is passed sequentially through operations, `nn.Sequential` ([documentation](https://pytorch.org/docs/master/nn.html#torch.nn.Sequential)). Using this to build the equivalent network:"
   ]
  },
  {
   "cell_type": "code",
   "execution_count": 178,
   "metadata": {},
   "outputs": [
    {
     "name": "stdout",
     "output_type": "stream",
     "text": [
      "Sequential(\n",
      "  (0): Linear(in_features=784, out_features=128, bias=True)\n",
      "  (1): ReLU()\n",
      "  (2): Linear(in_features=128, out_features=64, bias=True)\n",
      "  (3): ReLU()\n",
      "  (4): Linear(in_features=64, out_features=10, bias=True)\n",
      "  (5): Softmax(dim=1)\n",
      ")\n"
     ]
    },
    {
     "data": {
      "image/png": "[encoded data removed]",
      "text/plain": [
       "<Figure size 432x648 with 2 Axes>"
      ]
     },
     "metadata": {
      "image/png": {
       "height": 235,
       "width": 424
      },
      "needs_background": "light"
     },
     "output_type": "display_data"
    }
   ],
   "source": [
    "# Hyperparameters for our network\n",
    "input_size = 784\n",
    "hidden_sizes = [128, 64]\n",
    "output_size = 10\n",
    "\n",
    "# Build a feed-forward network\n",
    "model = nn.Sequential(nn.Linear(input_size, hidden_sizes[0]),\n",
    "                      nn.ReLU(),\n",
    "                      nn.Linear(hidden_sizes[0], hidden_sizes[1]),\n",
    "                      nn.ReLU(),\n",
    "                      nn.Linear(hidden_sizes[1], output_size),\n",
    "                      nn.Softmax(dim=1))\n",
    "print(model)\n",
    "\n",
    "# Forward pass through the network and display output\n",
    "images, labels = next(iter(trainloader))\n",
    "images.resize_(images.shape[0], 1, 784)\n",
    "ps = model.forward(images[0,:])\n",
    "helper.view_classify(images[0].view(1, 28, 28), ps)"
   ]
  },
  {
   "cell_type": "markdown",
   "metadata": {},
   "source": [
    "Here our model is the same as before: 784 input units, a hidden layer with 128 units, ReLU activation, 64 unit hidden layer, another ReLU, then the output layer with 10 units, and the softmax output.\n",
    "\n",
    "The operations are available by passing in the appropriate index. For example, if you want to get first Linear operation and look at the weights, you'd use `model[0]`."
   ]
  },
  {
   "cell_type": "code",
   "execution_count": 179,
   "metadata": {},
   "outputs": [
    {
     "name": "stdout",
     "output_type": "stream",
     "text": [
      "Linear(in_features=784, out_features=128, bias=True)\n"
     ]
    },
    {
     "data": {
      "text/plain": [
       "Parameter containing:\n",
       "tensor([[-2.9542e-02,  2.8645e-02, -2.3946e-02,  ..., -2.7354e-02,\n",
       "          1.5774e-02,  2.8222e-02],\n",
       "        [-1.8512e-02, -2.6876e-02, -1.5026e-02,  ...,  1.2160e-02,\n",
       "         -1.8995e-02, -1.8834e-02],\n",
       "        [-1.3052e-02,  8.6366e-04, -1.6174e-02,  ..., -6.1419e-05,\n",
       "         -1.6722e-02,  1.8701e-02],\n",
       "        ...,\n",
       "        [ 5.7235e-03, -1.1520e-02, -2.9314e-02,  ..., -1.2465e-02,\n",
       "         -3.4266e-02,  3.8576e-03],\n",
       "        [-3.2874e-02,  1.5397e-02,  1.9248e-03,  ...,  9.0397e-03,\n",
       "          3.0002e-02,  5.0524e-03],\n",
       "        [-1.2100e-02,  2.8999e-02, -7.6652e-03,  ..., -8.2306e-03,\n",
       "          3.5666e-03,  3.1958e-02]], requires_grad=True)"
      ]
     },
     "execution_count": 179,
     "metadata": {},
     "output_type": "execute_result"
    }
   ],
   "source": [
    "print(model[0])\n",
    "model[0].weight"
   ]
  },
  {
   "cell_type": "markdown",
   "metadata": {},
   "source": [
    "You can also pass in an `OrderedDict` to name the individual layers and operations, instead of using incremental integers. Note that dictionary keys must be unique, so _each operation must have a different name_."
   ]
  },
  {
   "cell_type": "code",
   "execution_count": 180,
   "metadata": {},
   "outputs": [
    {
     "data": {
      "text/plain": [
       "Sequential(\n",
       "  (fc1): Linear(in_features=784, out_features=128, bias=True)\n",
       "  (relu1): ReLU()\n",
       "  (fc2): Linear(in_features=128, out_features=64, bias=True)\n",
       "  (relu2): ReLU()\n",
       "  (output): Linear(in_features=64, out_features=10, bias=True)\n",
       "  (softmax): Softmax(dim=1)\n",
       ")"
      ]
     },
     "execution_count": 180,
     "metadata": {},
     "output_type": "execute_result"
    }
   ],
   "source": [
    "from collections import OrderedDict\n",
    "model = nn.Sequential(OrderedDict([\n",
    "                      ('fc1', nn.Linear(input_size, hidden_sizes[0])),\n",
    "                      ('relu1', nn.ReLU()),\n",
    "                      ('fc2', nn.Linear(hidden_sizes[0], hidden_sizes[1])),\n",
    "                      ('relu2', nn.ReLU()),\n",
    "                      ('output', nn.Linear(hidden_sizes[1], output_size)),\n",
    "                      ('softmax', nn.Softmax(dim=1))]))\n",
    "model"
   ]
  },
  {
   "cell_type": "markdown",
   "metadata": {},
   "source": [
    "Now you can access layers either by integer or the name"
   ]
  },
  {
   "cell_type": "code",
   "execution_count": 181,
   "metadata": {},
   "outputs": [
    {
     "name": "stdout",
     "output_type": "stream",
     "text": [
      "Linear(in_features=784, out_features=128, bias=True)\n",
      "Linear(in_features=784, out_features=128, bias=True)\n"
     ]
    }
   ],
   "source": [
    "print(model[0])\n",
    "print(model.fc1)"
   ]
  },
  {
   "cell_type": "markdown",
   "metadata": {},
   "source": [
    "In the next notebook, we'll see how we can train a neural network to accuractly predict the numbers appearing in the MNIST images."
   ]
  }
 ],
 "metadata": {
  "kernelspec": {
   "display_name": "Python 3",
   "language": "python",
   "name": "python3"
  },
  "language_info": {
   "codemirror_mode": {
    "name": "ipython",
    "version": 3
   },
   "file_extension": ".py",
   "mimetype": "text/x-python",
   "name": "python",
   "nbconvert_exporter": "python",
   "pygments_lexer": "ipython3",
   "version": "3.6.5"
  }
 },
 "nbformat": 4,
 "nbformat_minor": 2
}
